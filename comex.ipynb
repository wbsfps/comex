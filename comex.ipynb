{
  "nbformat": 4,
  "nbformat_minor": 0,
  "metadata": {
    "colab": {
      "provenance": [],
      "authorship_tag": "ABX9TyOzERuduIsjdDUFTlu/I4Wo",
      "include_colab_link": true
    },
    "kernelspec": {
      "name": "python3",
      "display_name": "Python 3"
    },
    "language_info": {
      "name": "python"
    }
  },
  "cells": [
    {
      "cell_type": "markdown",
      "metadata": {
        "id": "view-in-github",
        "colab_type": "text"
      },
      "source": [
        "<a href=\"https://colab.research.google.com/github/wbsfps/comex/blob/main/comex.ipynb\" target=\"_parent\"><img src=\"https://colab.research.google.com/assets/colab-badge.svg\" alt=\"Open In Colab\"/></a>"
      ]
    },
    {
      "cell_type": "code",
      "execution_count": 7,
      "metadata": {
        "colab": {
          "base_uri": "https://localhost:8080/"
        },
        "id": "VhAX-vor2M1C",
        "outputId": "42ad45a0-2e4a-4239-89db-2eb553cdc07b"
      },
      "outputs": [
        {
          "output_type": "stream",
          "name": "stdout",
          "text": [
            "Versão do banco de dados PostgreSQL: PostgreSQL 16.8 (Debian 16.8-1.pgdg120+1) on x86_64-pc-linux-gnu, compiled by gcc (Debian 12.2.0-14) 12.2.0, 64-bit\n",
            "(1, 2, 1, 2, 1, Decimal('4500000.00'), 12000, 1, 1)\n",
            "(2, 1, 2, 1, 3, Decimal('7800000.00'), 6000, 2, 1)\n",
            "(3, 2, 3, 4, 5, Decimal('9000000.00'), 3000, 3, 1)\n",
            "(4, 1, 4, 5, 2, Decimal('5600000.00'), 4000, 1, 1)\n",
            "(5, 2, 5, 3, 4, Decimal('7300000.00'), 5000, 2, 1)\n",
            "(6, 2, 1, 3, 2, Decimal('8000000.00'), 4000, 1, 4)\n",
            "(7, 1, 2, 4, 5, Decimal('9200000.00'), 5000, 3, 4)\n",
            "(8, 2, 3, 5, 3, Decimal('11000000.00'), 7000, 2, 4)\n",
            "(9, 1, 4, 1, 1, Decimal('5200000.00'), 3000, 4, 4)\n",
            "(10, 2, 5, 2, 4, Decimal('7600000.00'), 4000, 1, 4)\n",
            "(11, 2, 1, 5, 3, Decimal('10000000.00'), 6000, 2, 7)\n",
            "(12, 1, 2, 3, 4, Decimal('8500000.00'), 5000, 3, 7)\n",
            "(13, 2, 3, 2, 1, Decimal('4200000.00'), 2000, 4, 7)\n",
            "(14, 1, 4, 1, 5, Decimal('9600000.00'), 4000, 1, 7)\n",
            "(15, 2, 5, 4, 2, Decimal('8800000.00'), 4500, 3, 7)\n",
            "(16, 2, 1, 4, 1, Decimal('6200000.00'), 3100, 2, 9)\n",
            "(17, 1, 2, 5, 3, Decimal('7800000.00'), 4500, 3, 9)\n",
            "(18, 2, 3, 1, 2, Decimal('8900000.00'), 5000, 4, 9)\n",
            "(19, 1, 4, 2, 4, Decimal('7100000.00'), 3800, 1, 9)\n",
            "(20, 2, 5, 3, 5, Decimal('9700000.00'), 5500, 3, 9)\n",
            "Conexão fechada.\n"
          ]
        }
      ],
      "source": [
        "# Conexão com o banco de dados\n",
        "\n",
        "import os\n",
        "import psycopg2\n",
        "from pyspark.sql import SparkSession\n",
        "\n",
        "try:\n",
        "    conn = psycopg2.connect(\n",
        "        dbname=\"db_lab_1_unidade\",\n",
        "        user=\"db_lab_1_unidade_user\",\n",
        "        password=\"MZ2eD0NEjzIsxsXYsMOxYSQbfnuSHZkT\",\n",
        "        host=\"dpg-cvkqbebe5dus73bss32g-a.oregon-postgres.render.com\",\n",
        "        port=\"5432\",\n",
        "    )\n",
        "\n",
        "    with conn.cursor() as cur:\n",
        "        cur.execute(\"SELECT version();\")\n",
        "\n",
        "        version = cur.fetchone()[0]\n",
        "        print(\"Versão do banco de dados PostgreSQL:\", version)\n",
        "\n",
        "        cur.execute(\"SELECT * FROM public.transacoes;\")\n",
        "        rows = cur.fetchall()\n",
        "        if rows:\n",
        "            for row in rows:\n",
        "                print(row)\n",
        "        else:\n",
        "            print(\"Nenhum dado encontrado na tabela.\")\n",
        "\n",
        "except Exception as e:\n",
        "    print(f\"Ocorreu um erro: {e}\")\n",
        "\n",
        "finally:\n",
        "    if conn:\n",
        "        conn.close()\n",
        "        print(\"Conexão fechada.\")"
      ]
    },
    {
      "cell_type": "code",
      "source": [
        "# Importando o SparkSession, que é o ponto de entrada para o Spark\n",
        "\n",
        "# Criando uma sessão Spark\n",
        "spark = SparkSession.builder \\\n",
        "    .appName(\"Exemplo Spark\") \\\n",
        "    .getOrCreate()\n",
        "\n",
        "# Criando um conjunto de dados simples (uma lista de números)\n",
        "numeros = [1, 2, 3, 4, 5, 6, 7, 8, 9, 10]\n",
        "\n",
        "# Convertendo a lista em um RDD (Resilient Distributed Dataset), estrutura básica do Spark\n",
        "rdd = spark.sparkContext.parallelize(numeros)\n",
        "\n",
        "# Operação 1: Calculando a soma dos números\n",
        "soma = rdd.sum()\n",
        "print(f\"A soma dos números é: {soma}\")\n",
        "\n",
        "# Operação 2: Filtrando números pares\n",
        "pares = rdd.filter(lambda x: x % 2 == 0)\n",
        "print(\"Números pares:\", pares.collect())\n",
        "\n",
        "# Encerrando a sessão Spark\n",
        "spark.stop()"
      ],
      "metadata": {
        "colab": {
          "base_uri": "https://localhost:8080/"
        },
        "id": "JC_F6UFS3SDz",
        "outputId": "eed4fa7c-48f9-4732-c966-4043efeaef24"
      },
      "execution_count": 8,
      "outputs": [
        {
          "output_type": "stream",
          "name": "stdout",
          "text": [
            "A soma dos números é: 55\n",
            "Números pares: [2, 4, 6, 8, 10]\n"
          ]
        }
      ]
    }
  ]
}